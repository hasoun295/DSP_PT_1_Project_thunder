{
 "cells": [
  {
   "cell_type": "code",
   "execution_count": 13,
   "id": "6d2a548f-f933-4681-85f9-aefaab1f017a",
   "metadata": {},
   "outputs": [],
   "source": [
    "import csv\n",
    "from datetime import date, datetime, timedelta\n",
    "import pandas as pd\n",
    "import os\n",
    "from colorama import init, Fore, Back, Style"
   ]
  },
  {
   "cell_type": "code",
   "execution_count": 15,
   "id": "fdbe0426-b7c2-4c45-a242-4c177398802f",
   "metadata": {},
   "outputs": [],
   "source": [
    "def read_csv(path):\n",
    "    \"\"\"\n",
    "    Read csv and return all data.\n",
    "    \"\"\"\n",
    "    data= []\n",
    "    # Read CV and save data in dictionary\n",
    "    with open(path, mode= 'r', newline='') as file:\n",
    "        content = csv.DictReader(file)\n",
    "        data = list(content)\n",
    "        return data"
   ]
  },
  {
   "cell_type": "code",
   "execution_count": 17,
   "id": "ff6a3457-d797-4026-8c6f-9a2d4e5d7c01",
   "metadata": {},
   "outputs": [],
   "source": [
    "def search_date():\n",
    "    while True:\n",
    "        try:\n",
    "            print(Fore.CYAN + \"Please input the date in mm-dd-yyyy format: \", end=' ')\n",
    "            new_date = input()\n",
    "            \n",
    "            if new_date == \"exist\":\n",
    "                return new_date\n",
    "                break\n",
    "            formatted_date = datetime.strptime(new_date, \"%m-%d-%Y\")\n",
    "            inputdate =formatted_date.strftime(\"%m-%d-%Y\")\n",
    "            return inputdate\n",
    "        except ValueError:\n",
    "            print(Fore.RED + \"\"\"Invalid input, please enter a date in mm-dd-yyyy format.\n",
    "Try again or write exist\"\"\")"
   ]
  },
  {
   "cell_type": "code",
   "execution_count": null,
   "id": "5488afd6-335c-4e34-a4fb-59a340de5d6e",
   "metadata": {
    "scrolled": true
   },
   "outputs": [
    {
     "name": "stdin",
     "output_type": "stream",
     "text": [
      "Please input the date in mm-dd-yyyy format:\n",
      " 11-20-2023\n"
     ]
    },
    {
     "name": "stdout",
     "output_type": "stream",
     "text": [
      "\u001b[31mThe date already exists, please try another one\n"
     ]
    },
    {
     "name": "stdin",
     "output_type": "stream",
     "text": [
      "Please input the date in mm-dd-yyyy format:\n",
      " 2020\n"
     ]
    },
    {
     "name": "stdout",
     "output_type": "stream",
     "text": [
      "\u001b[31mIncorrect input, try again\n"
     ]
    },
    {
     "name": "stdin",
     "output_type": "stream",
     "text": [
      "Please input the date in mm-dd-yyyy format:\n",
      " 123123\n"
     ]
    },
    {
     "name": "stdout",
     "output_type": "stream",
     "text": [
      "\u001b[31mIncorrect input, try again\n"
     ]
    },
    {
     "name": "stdin",
     "output_type": "stream",
     "text": [
      "Please input the date in mm-dd-yyyy format:\n",
      " hasan\n"
     ]
    },
    {
     "name": "stdout",
     "output_type": "stream",
     "text": [
      "\u001b[31mIncorrect input, try again\n"
     ]
    },
    {
     "name": "stdin",
     "output_type": "stream",
     "text": [
      "Please input the date in mm-dd-yyyy format:\n",
      " mohammed\n"
     ]
    },
    {
     "name": "stdout",
     "output_type": "stream",
     "text": [
      "\u001b[31mIncorrect input, try again\n"
     ]
    }
   ],
   "source": [
    "def add_weather():\n",
    "    \"\"\" Input all weather values\"\"\"\n",
    "    columns= [\"Date\",\"Temp C\",\"Humidity (%)\", \"Wind speed (km/h)\", \"Weather condition\"]\n",
    "    if not os.path.exists(\"Bahrain Weather.csv\") or not os.path.getsize(\"Bahrain Weather.csv\")>0:\n",
    "        with open (\"Bahrain Weather.csv\", \"w\",newline=\"\") as weather:\n",
    "            Dictdata=csv.DictWriter(weather,fieldnames=columns)\n",
    "            Dictdata.writeheader()\n",
    "    \n",
    "    # Add date\n",
    "    while True:\n",
    "        try:\n",
    "            data = read_csv(\"Bahrain Weather.csv\")\n",
    "            new_date= input(\"Please input the date in mm-dd-yyyy format:\\n\")\n",
    "            formatted_date= datetime.strptime(new_date, \"%m-%d-%Y\")\n",
    "            inputdate=formatted_date.strftime(\"%m-%d-%Y\")\n",
    "            if [x for x in data if x['Date'] == inputdate] != []:\n",
    "                print(Fore.RED + \"The date already exists, please try another one\") \n",
    "            else:\n",
    "                break\n",
    "        except ValueError:\n",
    "            print(Fore.RED + \"Incorrect input, try again\")    \n",
    "\n",
    "    # Add temperature\n",
    "    while True:\n",
    "        try:\n",
    "            input_temp= float(input(\"Please input the temperature in Celsius\\n\"))\n",
    "            if input_temp >65 or input_temp<-100:\n",
    "                print(Fore.RED + \"Please enter a valid number\\n\")\n",
    "            else:\n",
    "                break\n",
    "        except ValueError:\n",
    "            print(Fore.RED + \"Incorrect value, please enter a number\\n\")\n",
    "    while True:\n",
    "        try:\n",
    "            int_weather= int(input(\"Please input the weather condition: \\n 1 for sunny \\n 2 for cloudy \\n 3 for dusty \\n 4 for snowy \\n 5 for rainy\\n\"))\n",
    "            if int_weather>5 or int_weather<1:\n",
    "                #print(\"Please enter a valid value from 1 to 5\")\n",
    "                raise ValueError\n",
    "            elif int_weather ==1:\n",
    "                input_weather= \"Sunny\"\n",
    "                break\n",
    "            elif int_weather==2:\n",
    "                input_weather= \"Cloudy\"\n",
    "                break\n",
    "            elif int_weather==3:\n",
    "                input_weather=\"Dusty\"\n",
    "                break\n",
    "            elif int_weather==4:\n",
    "                input_weather= \"Snowy\"\n",
    "                break\n",
    "            elif int_weather==5:\n",
    "                input_weather= \"Rainy\"\n",
    "                break\n",
    "            else:\n",
    "                print(Fore.RED + \"Incorrect value, please try again\\n\")\n",
    "        except ValueError:\n",
    "            print(Fore.RED + \"Incorrect value, please try again\\n\")\n",
    "    while True:\n",
    "        try:\n",
    "            input_wind= float(input(\"Please input the wind speed in km/h (kph)\\n\"))\n",
    "            if input_wind >500 or input_wind<0:\n",
    "                print(Fore.RED + \"Please enter a valid number\\n\")\n",
    "            else:\n",
    "                break\n",
    "        except ValueError:\n",
    "            print(Fore.RED + \"Incorrect value, please try again\\n\")\n",
    "    while True:\n",
    "        try:\n",
    "            input_hum= float(input(\"Please input the humidity in percentage (0-100)\\n\"))\n",
    "            if input_hum >100 or input_hum<0:\n",
    "                print(Fore.RED + \"Please enter a valid number\\n\")\n",
    "            else:\n",
    "                break\n",
    "        except ValueError:\n",
    "            print(Fore.RED + \"Incorrect value, please try again\\n\")\n",
    "    with open (\"Bahrain Weather.csv\",\"a\", newline=\"\") as weather:\n",
    "        #columns= [\"Date\",\"Temp (C)\",\"Weather condition\", \"Wind speed (km/h)\", \"Humidity (%)\"]\n",
    "        #\"Temp\": inputtemp,\n",
    "        #\"Weather\": inputweather,\n",
    "        #\"Humidity\": inputhumidity,\n",
    "        #\"Wind\": inputwind\n",
    "        Dictdata=csv.DictWriter(weather,fieldnames=columns)\n",
    "        Dictdata.writerow({\"Date\":inputdate,\"Temp C\": input_temp,\"Weather condition\": input_weather, \"Wind speed (km/h)\": input_wind, \"Humidity (%)\": input_hum })\n",
    "add_weather()"
   ]
  },
  {
   "cell_type": "code",
   "execution_count": 13,
   "id": "d0cdc0a0-18ae-4282-bd4e-86366175eba4",
   "metadata": {},
   "outputs": [],
   "source": [
    "def weather_stat():\n",
    "    data = read_csv('Bahrain Weather.csv')\n",
    "    \n",
    "    while True:\n",
    "        try:\n",
    "            print(Fore.BLUE + \"Enter Start Date:\"+ Style.RESET_ALL)\n",
    "            start = search_date()\n",
    "            print(Fore.BLUE + \"Enter End Date:\"+ Style.RESET_ALL)\n",
    "            end = search_date()\n",
    "            if start > end:\n",
    "                raise ValueError(\"The end date can not be before the start date.\\n\")\n",
    "            \n",
    "            start = datetime.strptime(start, \"%m-%d-%Y\")\n",
    "            end = datetime.strptime(end, \"%m-%d-%Y\")\n",
    "            filtred_data = [x for x in data if datetime.strptime(x['Date'], '%m-%d-%Y') >= start and datetime.strptime(x['Date'], '%m-%d-%Y') <= end]\n",
    "            \n",
    "            if filtred_data == []:\n",
    "                raise ValueError(\"The selected range is outside the available data limits.\")\n",
    "            break\n",
    "        except ValueError as error:\n",
    "            print(Fore.RED, error)\n",
    "    \n",
    "    min_temps = min(float(x[\"Temp C\"]) for x in filtred_data)\n",
    "    max_temps = max(float(x[\"Temp C\"]) for x in filtred_data)\n",
    "    avg_temps = round(sum(float(x[\"Temp C\"]) for x in filtred_data)/len(filtred_data),2)\n",
    "\n",
    "    print(Fore.YELLOW,f'The maximum temprature for the whole period is {max_temps}°C')\n",
    "    print(Fore.YELLOW,f'The minimum temprature for the whole period is {min_temps}°C')\n",
    "    print(Fore.YELLOW,f'The average temprature for the whole period is {avg_temps}°C')"
   ]
  },
  {
   "cell_type": "code",
   "execution_count": 12,
   "id": "c4f532cc-740c-4f80-a017-e3fb90a1af54",
   "metadata": {},
   "outputs": [],
   "source": [
    "def search_by_date():\n",
    "    \"\"\"\n",
    "    Search data by date\n",
    "    date = the date you want to search for in the following format: \"MM-DD-YYYY\"\n",
    "    \"\"\"\n",
    "    data = read_csv(\"Bahrain Weather.csv\")\n",
    "    while True:\n",
    "        try:\n",
    "            date = search_date()\n",
    "            filtred_data = [x for x in data if x['Date'] == date]\n",
    "            \n",
    "            if date == \"exist\":\n",
    "                break\n",
    "\n",
    "            if filtred_data == []:\n",
    "                raise ValueError(\"\"\"Incorrect input, the data does not include this date.\n",
    "Try again or write exist\"\"\")\n",
    "                \n",
    "            filtred_data = pd.DataFrame(filtred_data)\n",
    "            return filtred_data\n",
    "            \n",
    "        except ValueError as error:\n",
    "            print(Fore.RED, error)"
   ]
  },
  {
   "cell_type": "code",
   "execution_count": 31,
   "id": "7b0beca4-1e02-4350-bd48-ec0ba9a60502",
   "metadata": {},
   "outputs": [],
   "source": [
    "def search_by_month():\n",
    "    \"\"\"\n",
    "    Search data by month, enter the month number\n",
    "    \"\"\"\n",
    "    data = read_csv(\"Bahrain Weather.csv\")\n",
    "    while True:\n",
    "        try:\n",
    "            print(Fore.BLUE + \"Enter the month you want to search for: \")\n",
    "\n",
    "            month = input()\n",
    "\n",
    "            if month == \"exist\":\n",
    "                break\n",
    "\n",
    "            if not month.isdigit():\n",
    "                raise ValueError(\"Invalid input, text is not allowed. Please enter a valid month number.\\n\")\n",
    "                \n",
    "            month = int(month)\n",
    "            \n",
    "            if month < 1 or month >12:\n",
    "                raise ValueError(\"Incorrect input, enter a correct month number between 1 and 12.\\n\")\n",
    " \n",
    "            filtred_data = [x for x in data if datetime.strptime(x['Date'], '%m-%d-%Y').month == month]\n",
    "            if filtred_data == []:\n",
    "                raise ValueError(\"\"\"The data does not include this month.\n",
    "Try again or write exist\"\"\")\n",
    "            \n",
    "            filtred_data = pd.DataFrame(filtred_data)\n",
    "            return filtred_data \n",
    "        \n",
    "        except ValueError as error:\n",
    "            print(Fore.RED, error)"
   ]
  },
  {
   "cell_type": "code",
   "execution_count": 23,
   "id": "6a8d1be0-6155-4a5e-8f5a-bda061464efc",
   "metadata": {},
   "outputs": [],
   "source": [
    "def search_by_season():\n",
    "    \"\"\"\n",
    "    Search data by season\n",
    "    \"\"\"\n",
    "    # Read the data\n",
    "    data = read_csv(\"Bahrain Weather.csv\")\n",
    "    \n",
    "    #run the loop to filter the data by season\n",
    "    while True:\n",
    "        try:\n",
    "            print(Fore.BLUE + \"Please enter the date to search by:\")\n",
    "            season = input().lower() #user input of the season\n",
    "            if season == \"summer\":\n",
    "                filtred_data = [x for x in data if datetime.strptime(x['Date'], '%m-%d-%Y').month in (6,7,8,9)]\n",
    "            elif season == \"winter\":\n",
    "                filtred_data = [x for x in data if datetime.strptime(x['Date'], '%m-%d-%Y').month in (12,1,2)]\n",
    "            elif season == \"spring\":\n",
    "                filtred_data = [x for x in data if datetime.strptime(x['Date'], '%m-%d-%Y').month in (3,4,5)]\n",
    "            elif season == \"autumn\":\n",
    "                filtred_data = [x for x in data if datetime.strptime(x['Date'], '%m-%d-%Y').month in (10,11)]\n",
    "            elif season == \"exist\": #user existing the loop\n",
    "                break\n",
    "            else:\n",
    "                raise ValueError(\"Incorrect input, enter a correct season\") #a error if no correct season was entered\n",
    "            \n",
    "            if filtred_data == []:\n",
    "                raise ValueError(\"\"\"The data does not include this month.\n",
    "    Try again or write exist\"\"\")\n",
    "            \n",
    "            filtred_data = pd.DataFrame(filtred_data)    \n",
    "            return filtred_data\n",
    "        except ValueError as error:\n",
    "            print(Fore.RED, error)"
   ]
  },
  {
   "cell_type": "code",
   "execution_count": 29,
   "id": "c5a2e422-38bf-4235-9c37-0100551808d9",
   "metadata": {},
   "outputs": [],
   "source": [
    "def view_all():\n",
    "    \"\"\"\n",
    "    Display all data\n",
    "    \"\"\"\n",
    "    data = read_csv(\"Bahrain Weather.csv\")\n",
    "    data = pd.DataFrame(data)\n",
    "    if data.empty:\n",
    "        print(Fore.RED + \"The data is empty.\")\n",
    "    return data"
   ]
  },
  {
   "cell_type": "code",
   "execution_count": 36,
   "id": "31941876-9b90-462e-88f5-eb9f7174ccf0",
   "metadata": {},
   "outputs": [],
   "source": [
    "def search_by_condition():\n",
    "    \"\"\"\n",
    "    Disply the data based on weather condition.\n",
    "    \"\"\"\n",
    "    # Read the data\n",
    "    data = read_csv(\"Bahrain Weather.csv\")\n",
    "\n",
    "    #run the loop to filter the data by condition\n",
    "    while True:\n",
    "        try:\n",
    "            print(Fore.BLUE + \"Please enter the weather condition to search by:\")\n",
    "            condition = input().lower() #user input of the season\n",
    "            if condition == \"sunny\":\n",
    "                filtred_data = [x for x in data if x[\"Weather condition\"] == condition]\n",
    "            elif condition == \"cloudy\":\n",
    "                filtred_data = [x for x in data if x[\"Weather condition\"] == condition]\n",
    "            elif condition == \"dusty\":\n",
    "                filtred_data = [x for x in data if x[\"Weather condition\"] == condition]\n",
    "            elif condition == \"snowy\":\n",
    "                filtred_data = [x for x in data if x[\"Weather condition\"] == condition]\n",
    "            elif condition == \"rainy\":    \n",
    "                filtred_data = [x for x in data if x[\"Weather condition\"] == condition]\n",
    "            elif condition == \"exist\": #user existing the loop\n",
    "                break\n",
    "            else:\n",
    "                raise ValueError(\"Incorrect input, enter a correct weather condition\") #a error if no correct season was entered\n",
    "            \n",
    "            if filtred_data == []:\n",
    "                raise ValueError(\"\"\"The data does not include this weather condition.\n",
    "    Try again or write exist\"\"\")\n",
    "            \n",
    "            filtred_data = pd.DataFrame(filtred_data)    \n",
    "            return filtred_data\n",
    "        except ValueError as error:\n",
    "            print(Fore.RED, error) "
   ]
  },
  {
   "cell_type": "code",
   "execution_count": 64,
   "id": "3502e68f-3127-45d9-b74a-5b050ddbc753",
   "metadata": {},
   "outputs": [],
   "source": [
    "def search_by_condition():\n",
    "    \"\"\"\n",
    "    Disply the data based on temperature in Celsius.\n",
    "    Note: this will disply all valuse that are aorud the inputed temperature by ±0.5.\n",
    "    \"\"\"\n",
    "    # Read the data\n",
    "    data = read_csv(\"Bahrain Weather.csv\")\n",
    "\n",
    "    #run the loop to filter the data by condition\n",
    "    while True:\n",
    "        try:\n",
    "            print(Fore.BLUE + \"Please enter the temperature in Celsius to search by:\")\n",
    "            temp = input() #user input of the season\n",
    "            \n",
    "            if not isinstance(temp, int):\n",
    "                raise ValueError(\"Please enter a valid number\\n\")\n",
    "            \n",
    "            temp = int(temp)    \n",
    "            if temp >65 or temp<-100:\n",
    "                raise ValueError(\"Please enter a valid temperature\\n\")\n",
    "            \n",
    "            filtred_data = [x for x in data if round(float(x[\"Temp C\"]),0) == temp]\n",
    "            \n",
    "            if temp == \"exist\": #user existing the loop\n",
    "                break\n",
    "            \n",
    "            if filtred_data == []:\n",
    "                raise ValueError(\"\"\"The data does not include this weather condition.\n",
    "    Try again or write exist\"\"\")\n",
    "            \n",
    "            filtred_data = pd.DataFrame(filtred_data)    \n",
    "            return filtred_data\n",
    "        except ValueError as error:\n",
    "            print(Fore.RED, error) "
   ]
  },
  {
   "cell_type": "code",
   "execution_count": null,
   "id": "819e6842-11f1-42a9-b6f0-a4c7d716770c",
   "metadata": {},
   "outputs": [],
   "source": []
  }
 ],
 "metadata": {
  "kernelspec": {
   "display_name": "Python [conda env:base] *",
   "language": "python",
   "name": "conda-base-py"
  },
  "language_info": {
   "codemirror_mode": {
    "name": "ipython",
    "version": 3
   },
   "file_extension": ".py",
   "mimetype": "text/x-python",
   "name": "python",
   "nbconvert_exporter": "python",
   "pygments_lexer": "ipython3",
   "version": "3.11.7"
  }
 },
 "nbformat": 4,
 "nbformat_minor": 5
}
