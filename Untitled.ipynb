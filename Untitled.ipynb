{
 "cells": [
  {
   "cell_type": "code",
   "execution_count": null,
   "id": "81e44985-0f1e-4117-a349-919ea3691132",
   "metadata": {},
   "outputs": [],
   "source": [
    "def weather_stat():\n",
    "    read_csv('Bahrain Weather.csv')\n",
    "    \n",
    "    min_temps = data['mintemp'].min()\n",
    "    max_temps = data['mintemp'].max()\n",
    "    avg_temps = data['mintemp'].sum()/data['mintemp'].len()\n",
    "    \n",
    "# We need to make sure that the date in the proper format and the end_date is greater thatn the start_date.\n",
    "    \n",
    "    # Better to round the avg_temps to one decimal\n",
    "\n",
    "    print(f'The maximum temprature for the whole period is{max_temp}')\n",
    "    print(f'The minimum temprature for the whole period is{min_temp}')\n",
    "    print(f'The average temprature for the whole period is{avr_temp}')\n",
    "            "
   ]
  },
  {
   "cell_type": "code",
   "execution_count": null,
   "id": "0bd86c02-ea90-4696-b167-51d75040ac76",
   "metadata": {},
   "outputs": [],
   "source": [
    "data = [\n",
    "    {'date': '1-1-2025',\n",
    "    'maxtemp' : 50,\n",
    "    'mintemp' : 45},\n",
    "    {'date': '2-1-2025',\n",
    "    'maxtemp' : 50,\n",
    "    'mintemp' : 40}\n",
    "]"
   ]
  },
  {
   "cell_type": "code",
   "execution_count": 16,
   "id": "f4883c91-35bc-4ad3-807f-b6df065d24f5",
   "metadata": {},
   "outputs": [
    {
     "data": {
      "text/plain": [
       "'B'"
      ]
     },
     "execution_count": 16,
     "metadata": {},
     "output_type": "execute_result"
    }
   ],
   "source": [
    "from collections import Counter \n",
    "  \n",
    "# Creating Counter from a list (sequence of items)  \n",
    "x = Counter(['B','B','A','B','C','A','B','B','A','C'])\n",
    "\n",
    "#y=x.most_common(1)\n",
    "#y[0][0]\n",
    "\n",
    "#print(x)\n",
    "  \n",
    "# Creating Counter from a dictionary\n",
    "#print(Counter({'A':3, 'B':5, 'C':2}))\n",
    "  \n",
    "# Creating Counter using keyword arguments\n",
    "#print(Counter(A=3, B=5, C=2))"
   ]
  },
  {
   "cell_type": "code",
   "execution_count": 23,
   "id": "078d078b-0823-4b9a-82c6-cf55a5fb69e5",
   "metadata": {},
   "outputs": [
    {
     "name": "stdout",
     "output_type": "stream",
     "text": [
      "36: ████████████████████████████████████\n",
      "38: ██████████████████████████████████████\n",
      "45: █████████████████████████████████████████████\n",
      "23: ███████████████████████\n",
      "20: ████████████████████\n",
      "10: ██████████\n"
     ]
    }
   ],
   "source": [
    "z= [36, 38, 45, 23, 20, 10]\n",
    "for i in range(len(z)):\n",
    "    print(f\"{z[i]}: {'█' * z[i]}\")"
   ]
  },
  {
   "cell_type": "code",
   "execution_count": null,
   "id": "fca54f59-60c5-41a0-b2b1-7d3fe1b3cdfc",
   "metadata": {},
   "outputs": [],
   "source": []
  }
 ],
 "metadata": {
  "kernelspec": {
   "display_name": "Python 3 (ipykernel)",
   "language": "python",
   "name": "python3"
  },
  "language_info": {
   "codemirror_mode": {
    "name": "ipython",
    "version": 3
   },
   "file_extension": ".py",
   "mimetype": "text/x-python",
   "name": "python",
   "nbconvert_exporter": "python",
   "pygments_lexer": "ipython3",
   "version": "3.13.5"
  }
 },
 "nbformat": 4,
 "nbformat_minor": 5
}
